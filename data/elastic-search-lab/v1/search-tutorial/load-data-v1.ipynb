{
 "cells": [
  {
   "cell_type": "markdown",
   "metadata": {},
   "source": [
    "# Loading Data into the Elasticsearch \n",
    "We are going to use python to read the data and load that into *elasticsearch*. We need the the *elasticsearch* python package installed to do that. "
   ]
  },
  {
   "cell_type": "code",
   "execution_count": 2,
   "metadata": {},
   "outputs": [
    {
     "name": "stdout",
     "output_type": "stream",
     "text": [
      "{'name': 'elk-single-node', 'cluster_name': 'elk-single-node', 'cluster_uuid': 'Gkdt5h9RSiC2fvIFhQUS7A', 'version': {'number': '8.11.1', 'build_flavor': 'default', 'build_type': 'deb', 'build_hash': '6f9ff581fbcde658e6f69d6ce03050f060d1fd0c', 'build_date': '2023-11-11T10:05:59.421038163Z', 'build_snapshot': False, 'lucene_version': '9.8.0', 'minimum_wire_compatibility_version': '7.17.0', 'minimum_index_compatibility_version': '7.0.0'}, 'tagline': 'You Know, for Search'}\n"
     ]
    }
   ],
   "source": [
    "from elasticsearch import Elasticsearch\n",
    "\n",
    "## Connecting to Elasticsearch \n",
    "es = Elasticsearch( \"https://elk-single-node:9200\", \n",
    "    ca_certs=\"/home/vagrant/data/elasticsearch/certs/ca/ca.crt\", \n",
    "    basic_auth=('elastic','Ucsc@1234')\n",
    ")\n",
    "\n",
    "print( es.info() )"
   ]
  },
  {
   "cell_type": "markdown",
   "metadata": {},
   "source": [
    "Let us now define the functions which we need to handle this operation. "
   ]
  },
  {
   "cell_type": "code",
   "execution_count": 3,
   "metadata": {},
   "outputs": [],
   "source": [
    "def create_index():\n",
    "    es.indices.delete(index='my_documents-v1', ignore_unavailable=True)\n",
    "    es.indices.create(index='my_documents-v1')\n",
    "\n",
    "def insert_document(document):\n",
    "    return es.index(index='my_documents-v1', document=document)\n",
    "\n",
    "def insert_documents(documents):\n",
    "    operations = []\n",
    "    for document in documents:\n",
    "        operations.append({'index': {'_index': 'my_documents-v1'}})\n",
    "        operations.append(document)\n",
    "    return es.bulk(operations=operations)\n",
    "\n",
    "def reindex():\n",
    "    import json\n",
    "\n",
    "    create_index()\n",
    "    with open('data.json', 'rt') as f:\n",
    "        documents = json.loads(f.read())\n",
    "    return insert_documents(documents)\n",
    "\n",
    "def search(**query_args):\n",
    "    return es.search(index='my_documents-v1', **query_args)\n",
    "\n",
    "def retrieve_document(id):\n",
    "    return es.get(index='my_documents-v1', id=id)\n"
   ]
  },
  {
   "cell_type": "markdown",
   "metadata": {},
   "source": [
    "Let us now use the reindex function to create an index and load the data"
   ]
  },
  {
   "cell_type": "code",
   "execution_count": 4,
   "metadata": {},
   "outputs": [
    {
     "data": {
      "text/plain": [
       "ObjectApiResponse({'errors': False, 'took': 265, 'items': [{'index': {'_index': 'my_documents-v1', '_id': 'PXL2W4wBBwUzeYz5M-98', '_version': 1, 'result': 'created', '_shards': {'total': 2, 'successful': 1, 'failed': 0}, '_seq_no': 0, '_primary_term': 1, 'status': 201}}, {'index': {'_index': 'my_documents-v1', '_id': 'PnL2W4wBBwUzeYz5M-98', '_version': 1, 'result': 'created', '_shards': {'total': 2, 'successful': 1, 'failed': 0}, '_seq_no': 1, '_primary_term': 1, 'status': 201}}, {'index': {'_index': 'my_documents-v1', '_id': 'P3L2W4wBBwUzeYz5M-98', '_version': 1, 'result': 'created', '_shards': {'total': 2, 'successful': 1, 'failed': 0}, '_seq_no': 2, '_primary_term': 1, 'status': 201}}, {'index': {'_index': 'my_documents-v1', '_id': 'QHL2W4wBBwUzeYz5M-98', '_version': 1, 'result': 'created', '_shards': {'total': 2, 'successful': 1, 'failed': 0}, '_seq_no': 3, '_primary_term': 1, 'status': 201}}, {'index': {'_index': 'my_documents-v1', '_id': 'QXL2W4wBBwUzeYz5M-98', '_version': 1, 'result': 'created', '_shards': {'total': 2, 'successful': 1, 'failed': 0}, '_seq_no': 4, '_primary_term': 1, 'status': 201}}, {'index': {'_index': 'my_documents-v1', '_id': 'QnL2W4wBBwUzeYz5M-98', '_version': 1, 'result': 'created', '_shards': {'total': 2, 'successful': 1, 'failed': 0}, '_seq_no': 5, '_primary_term': 1, 'status': 201}}, {'index': {'_index': 'my_documents-v1', '_id': 'Q3L2W4wBBwUzeYz5M-98', '_version': 1, 'result': 'created', '_shards': {'total': 2, 'successful': 1, 'failed': 0}, '_seq_no': 6, '_primary_term': 1, 'status': 201}}, {'index': {'_index': 'my_documents-v1', '_id': 'RHL2W4wBBwUzeYz5M-98', '_version': 1, 'result': 'created', '_shards': {'total': 2, 'successful': 1, 'failed': 0}, '_seq_no': 7, '_primary_term': 1, 'status': 201}}, {'index': {'_index': 'my_documents-v1', '_id': 'RXL2W4wBBwUzeYz5M-98', '_version': 1, 'result': 'created', '_shards': {'total': 2, 'successful': 1, 'failed': 0}, '_seq_no': 8, '_primary_term': 1, 'status': 201}}, {'index': {'_index': 'my_documents-v1', '_id': 'RnL2W4wBBwUzeYz5M-98', '_version': 1, 'result': 'created', '_shards': {'total': 2, 'successful': 1, 'failed': 0}, '_seq_no': 9, '_primary_term': 1, 'status': 201}}, {'index': {'_index': 'my_documents-v1', '_id': 'R3L2W4wBBwUzeYz5M-98', '_version': 1, 'result': 'created', '_shards': {'total': 2, 'successful': 1, 'failed': 0}, '_seq_no': 10, '_primary_term': 1, 'status': 201}}, {'index': {'_index': 'my_documents-v1', '_id': 'SHL2W4wBBwUzeYz5M-98', '_version': 1, 'result': 'created', '_shards': {'total': 2, 'successful': 1, 'failed': 0}, '_seq_no': 11, '_primary_term': 1, 'status': 201}}, {'index': {'_index': 'my_documents-v1', '_id': 'SXL2W4wBBwUzeYz5M-98', '_version': 1, 'result': 'created', '_shards': {'total': 2, 'successful': 1, 'failed': 0}, '_seq_no': 12, '_primary_term': 1, 'status': 201}}, {'index': {'_index': 'my_documents-v1', '_id': 'SnL2W4wBBwUzeYz5M-98', '_version': 1, 'result': 'created', '_shards': {'total': 2, 'successful': 1, 'failed': 0}, '_seq_no': 13, '_primary_term': 1, 'status': 201}}, {'index': {'_index': 'my_documents-v1', '_id': 'S3L2W4wBBwUzeYz5M-98', '_version': 1, 'result': 'created', '_shards': {'total': 2, 'successful': 1, 'failed': 0}, '_seq_no': 14, '_primary_term': 1, 'status': 201}}]})"
      ]
     },
     "execution_count": 4,
     "metadata": {},
     "output_type": "execute_result"
    }
   ],
   "source": [
    "reindex()"
   ]
  },
  {
   "cell_type": "markdown",
   "metadata": {},
   "source": [
    "Let us now search in the database"
   ]
  },
  {
   "cell_type": "code",
   "execution_count": 5,
   "metadata": {},
   "outputs": [],
   "source": [
    "def extract_filters(query):\n",
    "    import re \n",
    "\n",
    "    filter_regex = r'category:([^\\s]+)\\s*'\n",
    "    m = re.search(filter_regex, query)\n",
    "    if m is None:\n",
    "        return {}, query  # no filters\n",
    "    filters = {\n",
    "        'filter': [{\n",
    "            'term': {\n",
    "                'category.keyword': {\n",
    "                    'value': m.group(1)\n",
    "                }\n",
    "            }\n",
    "        }]\n",
    "    }\n",
    "    query = re.sub(filter_regex, '', query).strip()\n",
    "    return filters, query\n",
    "\n",
    "\n",
    "def handle_search(query):\n",
    "    from pprint import pprint\n",
    "\n",
    "    filters, parsed_query = extract_filters(query)\n",
    "    \n",
    "\n",
    "    if parsed_query:\n",
    "        search_query = {\n",
    "            'must': {\n",
    "                'multi_match': {\n",
    "                    'query': parsed_query,\n",
    "                    'fields': ['name', 'summary', 'content'],\n",
    "                }\n",
    "            }\n",
    "        }\n",
    "    else:\n",
    "        search_query = {\n",
    "            'must': {\n",
    "                'match_all': {}\n",
    "            }\n",
    "        }\n",
    "\n",
    "    results = search(\n",
    "        query={\n",
    "            'bool': {\n",
    "                **search_query,\n",
    "                **filters\n",
    "            }\n",
    "        }, size=5, \n",
    "    )\n",
    "\n",
    "    print('Searching for Below Query: ')\n",
    "    print(query)\n",
    "    print(f'We got hits in the database!')\n",
    "    pprint(results)\n",
    "    print('Results are given below...')\n"
   ]
  },
  {
   "cell_type": "code",
   "execution_count": 6,
   "metadata": {},
   "outputs": [
    {
     "name": "stdout",
     "output_type": "stream",
     "text": [
      "Searching for Below Query: \n",
      "Working from home\n",
      "We got hits in the database!\n",
      "ObjectApiResponse({'took': 2, 'timed_out': False, '_shards': {'total': 1, 'successful': 1, 'skipped': 0, 'failed': 0}, 'hits': {'total': {'value': 10, 'relation': 'eq'}, 'max_score': 8.908656, 'hits': [{'_index': 'my_documents-v1', '_id': 'PXL2W4wBBwUzeYz5M-98', '_score': 8.908656, '_ignored': ['content.keyword', 'summary.keyword'], '_source': {'content': \"Effective: March 2020\\nPurpose\\n\\nThe purpose of this full-time work-from-home policy is to provide guidelines and support for employees to conduct their work remotely, ensuring the continuity and productivity of business operations during the COVID-19 pandemic and beyond.\\nScope\\n\\nThis policy applies to all employees who are eligible for remote work as determined by their role and responsibilities. It is designed to allow employees to work from home full time while maintaining the same level of performance and collaboration as they would in the office.\\nEligibility\\n\\nEmployees who can perform their work duties remotely and have received approval from their direct supervisor and the HR department are eligible for this work-from-home arrangement.\\nEquipment and Resources\\n\\nThe necessary equipment and resources will be provided to employees for remote work, including a company-issued laptop, software licenses, and access to secure communication tools. Employees are responsible for maintaining and protecting the company's equipment and data.\\nWorkspace\\n\\nEmployees working from home are responsible for creating a comfortable and safe workspace that is conducive to productivity. This includes ensuring that their home office is ergonomically designed, well-lit, and free from distractions.\\nCommunication\\n\\nEffective communication is vital for successful remote work. Employees are expected to maintain regular communication with their supervisors, colleagues, and team members through email, phone calls, video conferences, and other approved communication tools.\\nWork Hours and Availability\\n\\nEmployees are expected to maintain their regular work hours and be available during normal business hours, unless otherwise agreed upon with their supervisor. Any changes to work hours or availability must be communicated to the employee's supervisor and the HR department.\\nPerformance Expectations\\n\\nEmployees working from home are expected to maintain the same level of performance and productivity as if they were working in the office. Supervisors and team members will collaborate to establish clear expectations and goals for remote work.\\nTime Tracking and Overtime\\n\\nEmployees are required to accurately track their work hours using the company's time tracking system. Non-exempt employees must obtain approval from their supervisor before working overtime.\\nConfidentiality and Data Security\\n\\nEmployees must adhere to the company's confidentiality and data security policies while working from home. This includes safeguarding sensitive information, securing personal devices and internet connections, and reporting any security breaches to the IT department.\\nHealth and Well-being\\n\\nThe company encourages employees to prioritize their health and well-being while working from home. This includes taking regular breaks, maintaining a work-life balance, and seeking support from supervisors and colleagues when needed.\\nPolicy Review and Updates\\n\\nThis work-from-home policy will be reviewed periodically and updated as necessary, taking into account changes in public health guidance, business needs, and employee feedback.\\nQuestions and Concerns\\n\\nEmployees are encouraged to direct any questions or concerns about this policy to their supervisor or the HR department.\\n\", 'summary': 'This policy outlines the guidelines for full-time remote work, including eligibility, equipment and resources, workspace requirements, communication expectations, performance expectations, time tracking and overtime, confidentiality and data security, health and well-being, and policy reviews and updates. Employees are encouraged to direct any questions or concerns', 'name': 'Work From Home Policy', 'url': './sharepoint/Work from home policy.txt', 'created_on': '2020-03-01', 'updated_at': '2020-03-01', 'category': 'teams', 'rolePermissions': ['demo', 'manager']}}, {'_index': 'my_documents-v1', '_id': 'Q3L2W4wBBwUzeYz5M-98', '_score': 3.553946, '_ignored': ['content.keyword', 'summary.keyword'], '_source': {'content': \"Title: Working with the Sales Team as an Engineer in a Tech Company\\n\\nIntroduction:\\nAs an engineer in a tech company, collaboration with the sales team is essential to ensure the success of the company's products and services. This guidance document aims to provide an overview of how engineers can effectively work with the sales team, fostering a positive and productive working environment.\\nUnderstanding the Sales Team's Role:\\nThe sales team is responsible for promoting and selling the company's products and services to potential clients. Their role involves establishing relationships with customers, understanding their needs, and ensuring that the offered solutions align with their requirements.\\n\\nAs an engineer, it is important to understand the sales team's goals and objectives, as this will help you to provide them with the necessary information, tools, and support to successfully sell your company's products and services.\\nCommunication:\\nEffective communication is key to successfully working with the sales team. Make sure to maintain open lines of communication, and be responsive to their questions and concerns. This includes:\\n\\na. Attending sales meetings and conference calls when required.\\nb. Providing regular product updates and training sessions to the sales team.\\nc. Being available to answer technical questions and clarifications.\\nCollaboration:\\nCollaborate with the sales team in developing and refining sales materials, such as product presentations, demos, and technical documents. This will ensure that the sales team has accurate and up-to-date information to present to clients.\\n\\nAdditionally, work closely with the sales team on customer projects or product customizations, providing technical guidance, and ensuring that the solutions meet the customer's requirements.\\nCustomer Engagement:\\nAt times, engineers may be asked to join sales meetings or calls with potential clients to provide technical expertise. In these situations, it is important to:\\n\\na. Be prepared and understand the customer's needs and pain points.\\nb. Clearly explain the technical aspects of the product or solution in a simple language that the customer can understand.\\nc. Address any concerns or questions the customer may have.\\nContinuous Improvement:\\nActively seek feedback from the sales team regarding product performance, customer experiences, and market trends. Use this feedback to identify areas of improvement and collaborate with other engineers to enhance the product or service offerings.\\nMutual Respect and Support:\\nIt is essential to treat your colleagues in the sales team with respect and professionalism. Recognize and appreciate their efforts in promoting and selling the company's products and services. In turn, the sales team should also respect and appreciate the technical expertise and knowledge of the engineering team.\\n\\nBy working together, both the engineering and sales teams can contribute to the overall success of the company.\\n\\nConclusion:\\nCollaboration between engineers and the sales team is crucial for a tech company's success. By understanding each other's roles, maintaining effective communication, collaborating on projects, and supporting one another, both teams can work together to achieve the company's goals and ensure customer satisfaction.\\n\", 'summary': \": This guide provides an overview of how engineers can effectively collaborate with the sales team to ensure the success of a tech company. It includes understanding the sales team's role, communicating and collaborating on projects, engaging customers, and providing mutual respect and support.\", 'name': 'Sales Engineering Collaboration', 'url': 'https://enterprisesearch.sharepoint.com/:t:/s/MSBuilddemo/EW21-KJnfHBFoRiF49_uJMcBfHyPKimuPOFsCcJypQWaBQ?e=mGdIqe', 'created_on': '2019-04-15', 'category': 'sharepoint', 'rolePermissions': ['demo', 'manager']}}, {'_index': 'my_documents-v1', '_id': 'PnL2W4wBBwUzeYz5M-98', '_score': 3.260099, '_ignored': ['content.keyword'], '_source': {'content': 'Starting May 2022, the company will be implementing a two-day in-office work requirement per week for all eligible employees. Please coordinate with your supervisor and HR department to schedule your in-office workdays while continuing to follow all safety protocols.\\n', 'summary': 'Starting May 2022, employees will need to work two days a week in the office. Coordinate with your supervisor and HR department for these days while following safety protocols.', 'name': 'April Work From Home Update', 'url': './sharepoint/April work from home update.txt', 'created_on': '2022-04-29', 'updated_at': '2022-04-29', 'category': 'teams', 'rolePermissions': ['demo', 'manager']}}, {'_index': 'my_documents-v1', '_id': 'P3L2W4wBBwUzeYz5M-98', '_score': 1.5484023, '_ignored': ['content.keyword'], '_source': {'content': 'As we continue to prioritize the well-being of our employees, we are making a slight adjustment to our hybrid work policy. Starting May 1, 2023, employees will be required to work from the office three days a week, with two days designated for remote work. Please communicate with your supervisor and HR department to establish your updated in-office workdays.\\n', 'summary': 'Starting May 1, 2023, our hybrid work policy will require employees to work from the office three days a week and two days remotely.', 'name': 'Wfh Policy Update May 2023', 'url': './sharepoint/WFH policy update May 2023.txt', 'created_on': '2023-05-01', 'updated_at': '2023-05-01', 'category': 'teams', 'rolePermissions': ['demo', 'manager']}}, {'_index': 'my_documents-v1', '_id': 'QXL2W4wBBwUzeYz5M-98', '_score': 1.21091, '_ignored': ['content.keyword', 'summary.keyword'], '_source': {'content': \"Purpose\\n\\nThe purpose of this vacation policy is to outline the guidelines and procedures for requesting and taking time off from work for personal and leisure purposes. This policy aims to promote a healthy work-life balance and encourage employees to take time to rest and recharge.\\nScope\\n\\nThis policy applies to all full-time and part-time employees who have completed their probationary period.\\nVacation Accrual\\n\\nFull-time employees accrue vacation time at a rate of [X hours] per month, equivalent to [Y days] per year. Part-time employees accrue vacation time on a pro-rata basis, calculated according to their scheduled work hours.\\n\\nVacation time will begin to accrue from the first day of employment, but employees are eligible to take vacation time only after completing their probationary period. Unused vacation time will be carried over to the next year, up to a maximum of [Z days]. Any additional unused vacation time will be forfeited.\\nVacation Scheduling\\n\\nEmployees are required to submit vacation requests to their supervisor at least [A weeks] in advance, specifying the start and end dates of their vacation. Supervisors will review and approve vacation requests based on business needs, ensuring adequate coverage during the employee's absence.\\n\\nEmployees are encouraged to plan their vacations around the company's peak and non-peak periods to minimize disruptions. Vacation requests during peak periods may be subject to limitations and require additional advance notice.\\nVacation Pay\\n\\nEmployees will receive their regular pay during their approved vacation time. Vacation pay will be calculated based on the employee's average earnings over the [B weeks] preceding their vacation.\\nUnplanned Absences and Vacation Time\\n\\nIn the event of an unplanned absence due to illness or personal emergencies, employees may use their accrued vacation time, subject to supervisor approval. Employees must inform their supervisor as soon as possible and provide any required documentation upon their return to work.\\nVacation Time and Termination of Employment\\n\\nIf an employee's employment is terminated, they will be paid out for any unused vacation time, calculated based on their current rate of pay.\\nPolicy Review and Updates\\n\\nThis vacation policy will be reviewed periodically and updated as necessary, taking into account changes in labor laws, business needs, and employee feedback.\\nQuestions and Concerns\\n\\nEmployees are encouraged to direct any questions or concerns about this policy to their supervisor or the HR department.\\n\", 'summary': ': This policy outlines the guidelines and procedures for requesting and taking time off from work for personal and leisure purposes. Full-time employees accrue vacation time at a rate of [X hours] per month, equivalent to [Y days] per year. Vacation requests must be submitted to supervisors at least', 'name': 'Company Vacation Policy', 'url': 'https://enterprisesearch.sharepoint.com/:t:/s/MSBuilddemo/ES6rw9bKZxVBobG1WUoJpikBF9Bhx1pw_GvJWbsg-Z_HNA?e=faSHVt', 'created_on': '2018-04-15', 'updated_at': '2018-04-16', 'category': 'sharepoint', 'rolePermissions': ['demo', 'manager']}}]}})\n",
      "Results are given below...\n"
     ]
    }
   ],
   "source": [
    "query = 'Working from home'\n",
    "\n",
    "handle_search(query=query)"
   ]
  }
 ],
 "metadata": {
  "kernelspec": {
   "display_name": "venv",
   "language": "python",
   "name": "python3"
  },
  "language_info": {
   "codemirror_mode": {
    "name": "ipython",
    "version": 3
   },
   "file_extension": ".py",
   "mimetype": "text/x-python",
   "name": "python",
   "nbconvert_exporter": "python",
   "pygments_lexer": "ipython3",
   "version": "3.11.4"
  }
 },
 "nbformat": 4,
 "nbformat_minor": 2
}
